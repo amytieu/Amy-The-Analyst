{
  "nbformat": 4,
  "nbformat_minor": 0,
  "metadata": {
    "colab": {
      "name": "Movie Industry.ipynb",
      "provenance": [],
      "collapsed_sections": [],
      "authorship_tag": "ABX9TyNlhr82R4XEbQ/+l2vlV0FM",
      "include_colab_link": true
    },
    "kernelspec": {
      "name": "python3",
      "display_name": "Python 3"
    },
    "language_info": {
      "name": "python"
    }
  },
  "cells": [
    {
      "cell_type": "markdown",
      "metadata": {
        "id": "view-in-github",
        "colab_type": "text"
      },
      "source": [
        "<a href=\"https://colab.research.google.com/github/amytieu/Amy-The-Analyst/blob/main/Movie_Industry.ipynb\" target=\"_parent\"><img src=\"https://colab.research.google.com/assets/colab-badge.svg\" alt=\"Open In Colab\"/></a>"
      ]
    },
    {
      "cell_type": "markdown",
      "source": [
        "#**The Movie Industry**\n",
        "\n",
        "## According to Statista, the film industry took a hit in 2020 during the pandemic. The U.S., despite being a major player in motion picture production and distribution, saw its box office revenue drastically declined. For the first time, China surpassed North America, especially both the US and Canada, in box office revenue.\n",
        "<a href=\"https://www.statista.com/statistics/187069/north-american-box-office-gross-revenue-since-1980/\" rel=\"nofollow\"><img src=\"https://www.statista.com/graphic/1/187069/north-american-box-office-gross-revenue-since-1980.jpg\" alt=\"Statistic: Box office revenue in the United States and Canada from 1980 to 2021 (in billion U.S. dollars) | Statista\" style=\"width: 100%; height: auto !important; max-width:1000px;-ms-interpolation-mode: bicubic;\"/></a><br /></a>\n",
        "## (Sources: https://www.statista.com/topics/964/film/#topicHeader__wrapper)\n",
        "## What does this mean to the movie industry? Is the industry dying? Is there any type of movie that could be produced to attract moviegoers back to the theaters? \n",
        "## In this project, I will take a look at the ‘Movie Industry’ dataset from Kaggle. The data spans from 1980 to 2020. A 40-year dataset is a great place to explore and analyze movie trends in terms of gross revenue in relation to the budget needed to produce the movies.\n",
        "## The hypotheses I will be testing are: \n",
        "## **Hypothesis 1: Is there any difference in gross revenue between genres:**\n",
        "### 1.1 Comedy and action\n",
        "### 1.2 Horror and animation\n",
        "## **Hypothesis 2: Is there any difference in budget between genres:**\n",
        "### 2.1 Comedy and action\n",
        "### 2.2 Horror and animation"
      ],
      "metadata": {
        "id": "l1RwOcliNHMm"
      }
    },
    {
      "cell_type": "markdown",
      "source": [
        "# Mounting Google Drive and Import Libraries/Functions"
      ],
      "metadata": {
        "id": "c_fjNuXzLCJo"
      }
    },
    {
      "cell_type": "code",
      "source": [
        "from google.colab import drive \n",
        "drive.mount('/content/gdrive')\n",
        "import pandas as pd\n",
        "import math\n",
        "from scipy import stats\n",
        "from scipy.stats import ttest_ind\n",
        "from matplotlib import pyplot as plt\n",
        "import seaborn as sns\n",
        "import numpy as np\n",
        "sns.set()"
      ],
      "metadata": {
        "colab": {
          "base_uri": "https://localhost:8080/"
        },
        "id": "HNCEswOWLL9d",
        "outputId": "2562917c-1570-49a6-b5b0-57da01e9fb7c"
      },
      "execution_count": null,
      "outputs": [
        {
          "output_type": "stream",
          "name": "stdout",
          "text": [
            "Drive already mounted at /content/gdrive; to attempt to forcibly remount, call drive.mount(\"/content/gdrive\", force_remount=True).\n"
          ]
        }
      ]
    },
    {
      "cell_type": "markdown",
      "source": [
        "# The dataset - \"Movie Industry - Four Decades of Movies\"\n",
        "## You can find the dataset here: https://www.kaggle.com/danielgrijalvas/movies?select=movies.csv\n",
        "## The dataset belongs to Deniel Grijalva and it is collected by scraping the HTML from IMDb using a Python script.\n",
        "## It has 7668 rows and 15 columns. The features of the data includes: name, genre, year, released, score, votes, director, writer, star, country, budget, gross, company, runtime.\n",
        "## In this project, I mainly focus on these data:\n",
        " - name: string\n",
        " - genre: categorical nominal\n",
        " - year: categorical nominal\n",
        " - budget: quantitative continuous\n",
        " - gross: quantitative continuous\n",
        "\n",
        "## Let's load the data and look at its contents\n"
      ],
      "metadata": {
        "id": "b2jofvnBTdrs"
      }
    },
    {
      "cell_type": "code",
      "source": [
        "# Load the dataset from Google Drive\n",
        "movies_df = pd.read_csv('/content/gdrive/My Drive/THINKFUL - CAPSTONE PROJECT/movies.csv')\n",
        "movies_df.info()\n",
        "movies_df.shape"
      ],
      "metadata": {
        "colab": {
          "base_uri": "https://localhost:8080/"
        },
        "id": "HXIIBedvTTnd",
        "outputId": "b9401aa4-c43b-4c95-a6e2-975ec3eddc8f"
      },
      "execution_count": null,
      "outputs": [
        {
          "output_type": "stream",
          "name": "stdout",
          "text": [
            "<class 'pandas.core.frame.DataFrame'>\n",
            "RangeIndex: 7668 entries, 0 to 7667\n",
            "Data columns (total 15 columns):\n",
            " #   Column    Non-Null Count  Dtype  \n",
            "---  ------    --------------  -----  \n",
            " 0   name      7668 non-null   object \n",
            " 1   rating    7591 non-null   object \n",
            " 2   genre     7668 non-null   object \n",
            " 3   year      7668 non-null   int64  \n",
            " 4   released  7666 non-null   object \n",
            " 5   score     7665 non-null   float64\n",
            " 6   votes     7665 non-null   float64\n",
            " 7   director  7668 non-null   object \n",
            " 8   writer    7665 non-null   object \n",
            " 9   star      7667 non-null   object \n",
            " 10  country   7665 non-null   object \n",
            " 11  budget    5497 non-null   float64\n",
            " 12  gross     7479 non-null   float64\n",
            " 13  company   7651 non-null   object \n",
            " 14  runtime   7664 non-null   float64\n",
            "dtypes: float64(5), int64(1), object(9)\n",
            "memory usage: 898.7+ KB\n"
          ]
        },
        {
          "output_type": "execute_result",
          "data": {
            "text/plain": [
              "(7668, 15)"
            ]
          },
          "metadata": {},
          "execution_count": 33
        }
      ]
    },
    {
      "cell_type": "code",
      "source": [
        "# Check the first two rows of the dataset\n",
        "movies_df.head(2)"
      ],
      "metadata": {
        "colab": {
          "base_uri": "https://localhost:8080/",
          "height": 112
        },
        "id": "DTTHfoYDWHir",
        "outputId": "47169ff3-757c-4854-c3a1-075cfca3155b"
      },
      "execution_count": null,
      "outputs": [
        {
          "output_type": "execute_result",
          "data": {
            "text/html": [
              "\n",
              "  <div id=\"df-2a9f26b0-389e-4751-8733-e2145d134152\">\n",
              "    <div class=\"colab-df-container\">\n",
              "      <div>\n",
              "<style scoped>\n",
              "    .dataframe tbody tr th:only-of-type {\n",
              "        vertical-align: middle;\n",
              "    }\n",
              "\n",
              "    .dataframe tbody tr th {\n",
              "        vertical-align: top;\n",
              "    }\n",
              "\n",
              "    .dataframe thead th {\n",
              "        text-align: right;\n",
              "    }\n",
              "</style>\n",
              "<table border=\"1\" class=\"dataframe\">\n",
              "  <thead>\n",
              "    <tr style=\"text-align: right;\">\n",
              "      <th></th>\n",
              "      <th>name</th>\n",
              "      <th>rating</th>\n",
              "      <th>genre</th>\n",
              "      <th>year</th>\n",
              "      <th>released</th>\n",
              "      <th>score</th>\n",
              "      <th>votes</th>\n",
              "      <th>director</th>\n",
              "      <th>writer</th>\n",
              "      <th>star</th>\n",
              "      <th>country</th>\n",
              "      <th>budget</th>\n",
              "      <th>gross</th>\n",
              "      <th>company</th>\n",
              "      <th>runtime</th>\n",
              "    </tr>\n",
              "  </thead>\n",
              "  <tbody>\n",
              "    <tr>\n",
              "      <th>0</th>\n",
              "      <td>The Shining</td>\n",
              "      <td>R</td>\n",
              "      <td>Drama</td>\n",
              "      <td>1980</td>\n",
              "      <td>June 13, 1980 (United States)</td>\n",
              "      <td>8.4</td>\n",
              "      <td>927000.0</td>\n",
              "      <td>Stanley Kubrick</td>\n",
              "      <td>Stephen King</td>\n",
              "      <td>Jack Nicholson</td>\n",
              "      <td>United Kingdom</td>\n",
              "      <td>19000000.0</td>\n",
              "      <td>46998772.0</td>\n",
              "      <td>Warner Bros.</td>\n",
              "      <td>146.0</td>\n",
              "    </tr>\n",
              "    <tr>\n",
              "      <th>1</th>\n",
              "      <td>The Blue Lagoon</td>\n",
              "      <td>R</td>\n",
              "      <td>Adventure</td>\n",
              "      <td>1980</td>\n",
              "      <td>July 2, 1980 (United States)</td>\n",
              "      <td>5.8</td>\n",
              "      <td>65000.0</td>\n",
              "      <td>Randal Kleiser</td>\n",
              "      <td>Henry De Vere Stacpoole</td>\n",
              "      <td>Brooke Shields</td>\n",
              "      <td>United States</td>\n",
              "      <td>4500000.0</td>\n",
              "      <td>58853106.0</td>\n",
              "      <td>Columbia Pictures</td>\n",
              "      <td>104.0</td>\n",
              "    </tr>\n",
              "  </tbody>\n",
              "</table>\n",
              "</div>\n",
              "      <button class=\"colab-df-convert\" onclick=\"convertToInteractive('df-2a9f26b0-389e-4751-8733-e2145d134152')\"\n",
              "              title=\"Convert this dataframe to an interactive table.\"\n",
              "              style=\"display:none;\">\n",
              "        \n",
              "  <svg xmlns=\"http://www.w3.org/2000/svg\" height=\"24px\"viewBox=\"0 0 24 24\"\n",
              "       width=\"24px\">\n",
              "    <path d=\"M0 0h24v24H0V0z\" fill=\"none\"/>\n",
              "    <path d=\"M18.56 5.44l.94 2.06.94-2.06 2.06-.94-2.06-.94-.94-2.06-.94 2.06-2.06.94zm-11 1L8.5 8.5l.94-2.06 2.06-.94-2.06-.94L8.5 2.5l-.94 2.06-2.06.94zm10 10l.94 2.06.94-2.06 2.06-.94-2.06-.94-.94-2.06-.94 2.06-2.06.94z\"/><path d=\"M17.41 7.96l-1.37-1.37c-.4-.4-.92-.59-1.43-.59-.52 0-1.04.2-1.43.59L10.3 9.45l-7.72 7.72c-.78.78-.78 2.05 0 2.83L4 21.41c.39.39.9.59 1.41.59.51 0 1.02-.2 1.41-.59l7.78-7.78 2.81-2.81c.8-.78.8-2.07 0-2.86zM5.41 20L4 18.59l7.72-7.72 1.47 1.35L5.41 20z\"/>\n",
              "  </svg>\n",
              "      </button>\n",
              "      \n",
              "  <style>\n",
              "    .colab-df-container {\n",
              "      display:flex;\n",
              "      flex-wrap:wrap;\n",
              "      gap: 12px;\n",
              "    }\n",
              "\n",
              "    .colab-df-convert {\n",
              "      background-color: #E8F0FE;\n",
              "      border: none;\n",
              "      border-radius: 50%;\n",
              "      cursor: pointer;\n",
              "      display: none;\n",
              "      fill: #1967D2;\n",
              "      height: 32px;\n",
              "      padding: 0 0 0 0;\n",
              "      width: 32px;\n",
              "    }\n",
              "\n",
              "    .colab-df-convert:hover {\n",
              "      background-color: #E2EBFA;\n",
              "      box-shadow: 0px 1px 2px rgba(60, 64, 67, 0.3), 0px 1px 3px 1px rgba(60, 64, 67, 0.15);\n",
              "      fill: #174EA6;\n",
              "    }\n",
              "\n",
              "    [theme=dark] .colab-df-convert {\n",
              "      background-color: #3B4455;\n",
              "      fill: #D2E3FC;\n",
              "    }\n",
              "\n",
              "    [theme=dark] .colab-df-convert:hover {\n",
              "      background-color: #434B5C;\n",
              "      box-shadow: 0px 1px 3px 1px rgba(0, 0, 0, 0.15);\n",
              "      filter: drop-shadow(0px 1px 2px rgba(0, 0, 0, 0.3));\n",
              "      fill: #FFFFFF;\n",
              "    }\n",
              "  </style>\n",
              "\n",
              "      <script>\n",
              "        const buttonEl =\n",
              "          document.querySelector('#df-2a9f26b0-389e-4751-8733-e2145d134152 button.colab-df-convert');\n",
              "        buttonEl.style.display =\n",
              "          google.colab.kernel.accessAllowed ? 'block' : 'none';\n",
              "\n",
              "        async function convertToInteractive(key) {\n",
              "          const element = document.querySelector('#df-2a9f26b0-389e-4751-8733-e2145d134152');\n",
              "          const dataTable =\n",
              "            await google.colab.kernel.invokeFunction('convertToInteractive',\n",
              "                                                     [key], {});\n",
              "          if (!dataTable) return;\n",
              "\n",
              "          const docLinkHtml = 'Like what you see? Visit the ' +\n",
              "            '<a target=\"_blank\" href=https://colab.research.google.com/notebooks/data_table.ipynb>data table notebook</a>'\n",
              "            + ' to learn more about interactive tables.';\n",
              "          element.innerHTML = '';\n",
              "          dataTable['output_type'] = 'display_data';\n",
              "          await google.colab.output.renderOutput(dataTable, element);\n",
              "          const docLink = document.createElement('div');\n",
              "          docLink.innerHTML = docLinkHtml;\n",
              "          element.appendChild(docLink);\n",
              "        }\n",
              "      </script>\n",
              "    </div>\n",
              "  </div>\n",
              "  "
            ],
            "text/plain": [
              "              name rating      genre  year                       released  \\\n",
              "0      The Shining      R      Drama  1980  June 13, 1980 (United States)   \n",
              "1  The Blue Lagoon      R  Adventure  1980   July 2, 1980 (United States)   \n",
              "\n",
              "   score     votes         director                   writer            star  \\\n",
              "0    8.4  927000.0  Stanley Kubrick             Stephen King  Jack Nicholson   \n",
              "1    5.8   65000.0   Randal Kleiser  Henry De Vere Stacpoole  Brooke Shields   \n",
              "\n",
              "          country      budget       gross            company  runtime  \n",
              "0  United Kingdom  19000000.0  46998772.0       Warner Bros.    146.0  \n",
              "1   United States   4500000.0  58853106.0  Columbia Pictures    104.0  "
            ]
          },
          "metadata": {},
          "execution_count": 34
        }
      ]
    },
    {
      "cell_type": "markdown",
      "source": [
        "## Some columns, like 'budget' and 'gross', have missing values. I will filter out the missing values and work on a clean dataset"
      ],
      "metadata": {
        "id": "aFXhzItRVtVu"
      }
    },
    {
      "cell_type": "code",
      "source": [
        "# Clean NaN values\n",
        "clean_df = movies_df.dropna()\n",
        "clean_df.shape"
      ],
      "metadata": {
        "colab": {
          "base_uri": "https://localhost:8080/"
        },
        "id": "iaTa-mcSa8RF",
        "outputId": "f41ea758-737c-4c84-f602-0d3c18356e30"
      },
      "execution_count": null,
      "outputs": [
        {
          "output_type": "execute_result",
          "data": {
            "text/plain": [
              "(5421, 15)"
            ]
          },
          "metadata": {},
          "execution_count": 35
        }
      ]
    },
    {
      "cell_type": "markdown",
      "source": [
        "## There are only 5421 movies now. \n",
        "## Because I want to work with the gross revenue and budget data for each genres. I will now take a look at the genres in this dataset"
      ],
      "metadata": {
        "id": "WjNZYOMmbcEs"
      }
    },
    {
      "cell_type": "code",
      "source": [
        "# How many movie genres are there?\n",
        "genres = clean_df['genre'].nunique()\n",
        "genres"
      ],
      "metadata": {
        "colab": {
          "base_uri": "https://localhost:8080/"
        },
        "id": "lp0zUrLjbGIT",
        "outputId": "6f469e41-338c-4e66-bd49-75b530ac0351"
      },
      "execution_count": null,
      "outputs": [
        {
          "output_type": "execute_result",
          "data": {
            "text/plain": [
              "15"
            ]
          },
          "metadata": {},
          "execution_count": 36
        }
      ]
    },
    {
      "cell_type": "code",
      "source": [
        "# What are the genres and the total movie count for each genre \n",
        "genre_counts = clean_df['genre'].value_counts()\n",
        "genre_counts"
      ],
      "metadata": {
        "colab": {
          "base_uri": "https://localhost:8080/"
        },
        "id": "JE-m8Ceyb-np",
        "outputId": "85b51f69-7e5e-481f-c81d-289efb63d7cf"
      },
      "execution_count": null,
      "outputs": [
        {
          "output_type": "execute_result",
          "data": {
            "text/plain": [
              "Comedy       1496\n",
              "Action       1415\n",
              "Drama         863\n",
              "Crime         399\n",
              "Adventure     327\n",
              "Biography     311\n",
              "Animation     277\n",
              "Horror        251\n",
              "Fantasy        41\n",
              "Mystery        17\n",
              "Thriller        7\n",
              "Sci-Fi          6\n",
              "Romance         5\n",
              "Family          4\n",
              "Western         2\n",
              "Name: genre, dtype: int64"
            ]
          },
          "metadata": {},
          "execution_count": 37
        }
      ]
    },
    {
      "cell_type": "markdown",
      "source": [
        "## There are 15 movie genres: Comedy, Action, Drama, Crime, Adventure,Biography, Animation, Horror, Fantasy, Mystery, Thriller, Sci-Fi, Romance, Family, Western"
      ],
      "metadata": {
        "id": "-JgB6_gIHY_Z"
      }
    },
    {
      "cell_type": "code",
      "source": [
        "# Let see this data (genres and movie counts by genre) in a chart\n",
        "sns.set_style('white')\n",
        "plt.figure(figsize=(10,6))\n",
        "clean_df['genre'].value_counts().plot(kind='bar')\n",
        "sns.despine()\n",
        "plt.title('Movie Count by Genre')"
      ],
      "metadata": {
        "colab": {
          "base_uri": "https://localhost:8080/",
          "height": 457
        },
        "id": "ijJGEwV7e8W0",
        "outputId": "c856494a-c4d5-4e2e-dab2-ae39e51159a5"
      },
      "execution_count": null,
      "outputs": [
        {
          "output_type": "execute_result",
          "data": {
            "text/plain": [
              "Text(0.5, 1.0, 'Movie Count by Genre')"
            ]
          },
          "metadata": {},
          "execution_count": 38
        },
        {
          "output_type": "display_data",
          "data": {
            "image/png": "[encoded data removed]",
            "text/plain": [
              "<Figure size 720x432 with 1 Axes>"
            ]
          },
          "metadata": {}
        }
      ]
    },
    {
      "cell_type": "markdown",
      "source": [
        "## For each testing hypothesis, I need a set of two genres with approximately similar sample sizes\n",
        "## Each sample size needs to be equal to or greater than 30 to be considered sufficient for the Central Limit Theorem to hold\n",
        "## That is why I chose to test Comedy and Action, and Animation and Horror\n",
        "## Before testing the hypotheses, I will create separate dataframes for each above mentioned genres\n",
        "## I will also create a function to calculate confidence intervals\n",
        "\n"
      ],
      "metadata": {
        "id": "Kgo6mYEccjxn"
      }
    },
    {
      "cell_type": "code",
      "source": [
        "# Create dataframes filtered by genre\n",
        "comedy_df = clean_df.loc[clean_df['genre'] == 'Comedy']\n",
        "action_df = clean_df.loc[clean_df['genre'] == 'Action']\n",
        "animation_df = clean_df.loc[clean_df['genre'] == 'Animation']\n",
        "horror_df = clean_df.loc[clean_df['genre'] == 'Horror']"
      ],
      "metadata": {
        "id": "DaQxUMVzcLj1"
      },
      "execution_count": null,
      "outputs": []
    },
    {
      "cell_type": "code",
      "source": [
        "# A function for confidence interval calculation\n",
        "def get_95_ci(array_1, array_2):\n",
        "  sample_1_n = array_1.shape[0]\n",
        "  sample_2_n = array_2.shape[0]\n",
        "  sample_1_mean = array_1.mean()\n",
        "  sample_2_mean = array_2.mean()\n",
        "  sample_1_var = array_1.var()\n",
        "  sample_2_var = array_2.var()\n",
        "  mean_difference = sample_2_mean - sample_1_mean\n",
        "  std_err_difference = math.sqrt((sample_1_var/sample_1_n)+(sample_2_var/sample_2_n))\n",
        "  margin_of_error = 1.96 * std_err_difference\n",
        "  ci_lower = mean_difference - margin_of_error\n",
        "  ci_upper = mean_difference + margin_of_error\n",
        "  return(\"The difference in means at the 95% confidence interval (two-tail) is between \"+str(ci_lower)+\" and \"+str(ci_upper)+\".\")"
      ],
      "metadata": {
        "id": "Yl-Pjex_T5Kn"
      },
      "execution_count": null,
      "outputs": []
    },
    {
      "cell_type": "markdown",
      "source": [
        "# **Hypothesis 1 - Gross revenue difference**"
      ],
      "metadata": {
        "id": "CHIXAk1WPMMG"
      }
    },
    {
      "cell_type": "markdown",
      "source": [
        "## 1.1 Is there a difference in gross revenue between action and comedy?\n",
        "### Let's take a look at their descriptive stats using `describe()`"
      ],
      "metadata": {
        "id": "1PbWVexyP_7d"
      }
    },
    {
      "cell_type": "code",
      "source": [
        "# Run descriptive statistics for gross revenues of comedy and action, respectively\n",
        "print(comedy_df['gross'].describe(), '\\n')\n",
        "print(action_df['gross'].describe())"
      ],
      "metadata": {
        "colab": {
          "base_uri": "https://localhost:8080/"
        },
        "id": "LMdnmdQZhk64",
        "outputId": "95d084d3-e2f4-49dd-dc90-f4093cd415be"
      },
      "execution_count": null,
      "outputs": [
        {
          "output_type": "stream",
          "name": "stdout",
          "text": [
            "count    1.496000e+03\n",
            "mean     5.916766e+07\n",
            "std      8.077252e+07\n",
            "min      3.090000e+02\n",
            "25%      8.572908e+06\n",
            "50%      2.739483e+07\n",
            "75%      7.374322e+07\n",
            "max      6.112578e+08\n",
            "Name: gross, dtype: float64 \n",
            "\n",
            "count    1.415000e+03\n",
            "mean     1.680232e+08\n",
            "std      2.621981e+08\n",
            "min      2.970000e+03\n",
            "25%      1.914032e+07\n",
            "50%      7.141673e+07\n",
            "75%      2.011364e+08\n",
            "max      2.847246e+09\n",
            "Name: gross, dtype: float64\n"
          ]
        }
      ]
    },
    {
      "cell_type": "markdown",
      "source": [
        "### It seems there is quite a difference in gross revenue between action and comedy movies. But, let's peform t-test to be sure\n",
        "### H₀: µ₁ - µ₂ = 0\n",
        "### Hₐ: µ₁ - µ₂ ≠ 0"
      ],
      "metadata": {
        "id": "hhdoWz0oQ6Lq"
      }
    },
    {
      "cell_type": "code",
      "source": [
        "# T-test\n",
        "print(stats.ttest_ind(comedy_df['gross'], action_df['gross']))\n",
        "\n",
        "# Confidence Interval\n",
        "print(get_95_ci(comedy_df['gross'], action_df['gross']))\n",
        "\n",
        "# Use 'boxplot()' to see this group of data through their quartiles\n",
        "plt.figure(figsize=(7,8))\n",
        "plt.ylim(0,600000000)\n",
        "sns.boxplot(y='gross', x='genre', data=clean_df, order=['Comedy', 'Action'])\n",
        "sns.despine()\n",
        "plt.xlabel('Genre')\n",
        "plt.ylabel('Gross Revenue in Billions')"
      ],
      "metadata": {
        "colab": {
          "base_uri": "https://localhost:8080/",
          "height": 565
        },
        "id": "t7t5zTX_Rfo7",
        "outputId": "fcc96c25-2514-4bfa-e297-c93ac310c5ae"
      },
      "execution_count": null,
      "outputs": [
        {
          "output_type": "stream",
          "name": "stdout",
          "text": [
            "Ttest_indResult(statistic=-15.308348758866371, pvalue=6.171106513944442e-51)\n",
            "The difference in means at the 95% confidence interval (two-tail) is between 94593805.01200336 and 123117334.93540126.\n"
          ]
        },
        {
          "output_type": "execute_result",
          "data": {
            "text/plain": [
              "Text(0, 0.5, 'Gross Revenue in Billions')"
            ]
          },
          "metadata": {},
          "execution_count": 42
        },
        {
          "output_type": "display_data",
          "data": {
            "image/png": "[encoded data removed]",
            "text/plain": [
              "<Figure size 504x576 with 1 Axes>"
            ]
          },
          "metadata": {}
        }
      ]
    },
    {
      "cell_type": "markdown",
      "source": [
        "### Hypothesis 1.1 results: \n",
        "- Reject the null hypothesis that there is no difference in gross revenue between comedy and action\n",
        "- The difference is signifficant at p < 0.05\n",
        "- With 95% confidence, the mean difference is between 94.5M and 123.12M"
      ],
      "metadata": {
        "id": "_h2LpRZTRtxQ"
      }
    },
    {
      "cell_type": "markdown",
      "source": [
        "## 1.2 Is there a difference in gross revenue between horror and animation?\n",
        "### H₀: µ₁ - µ₂ = 0\n",
        "### Hₐ: µ₁ - µ₂ ≠ 0"
      ],
      "metadata": {
        "id": "bAIRL50LWU7y"
      }
    },
    {
      "cell_type": "code",
      "source": [
        "# Run descriptive statistics for gross revenues of horror and animation, respectively\n",
        "print(horror_df['gross'].describe(), '\\n')\n",
        "print(animation_df['gross'].describe())"
      ],
      "metadata": {
        "colab": {
          "base_uri": "https://localhost:8080/"
        },
        "id": "uT0IeFVqQ4As",
        "outputId": "9a4271b5-8ea7-4dcf-e8f6-a62b82fd45ed"
      },
      "execution_count": null,
      "outputs": [
        {
          "output_type": "stream",
          "name": "stdout",
          "text": [
            "count    2.510000e+02\n",
            "mean     5.681695e+07\n",
            "std      7.883213e+07\n",
            "min      2.270000e+03\n",
            "25%      1.060807e+07\n",
            "50%      3.055339e+07\n",
            "75%      7.036024e+07\n",
            "max      7.017964e+08\n",
            "Name: gross, dtype: float64 \n",
            "\n",
            "count    2.770000e+02\n",
            "mean     2.811044e+08\n",
            "std      2.917065e+08\n",
            "min      3.037900e+04\n",
            "25%      6.828284e+07\n",
            "50%      1.923065e+08\n",
            "75%      3.839307e+08\n",
            "max      1.670728e+09\n",
            "Name: gross, dtype: float64\n"
          ]
        }
      ]
    },
    {
      "cell_type": "code",
      "source": [
        "# T-test\n",
        "print(stats.ttest_ind(horror_df['gross'], animation_df['gross']))\n",
        "\n",
        "# Confidence Interval\n",
        "print(get_95_ci(horror_df['gross'], animation_df['gross']))\n",
        "\n",
        "# Use 'boxplot()' to see this group of data through their quartiles\n",
        "plt.figure(figsize=(7,8))\n",
        "plt.ylim(0,900000000)\n",
        "sns.boxplot(y='gross', x='genre', data=clean_df, order=['Horror', 'Animation'])\n",
        "sns.despine()\n",
        "plt.xlabel('Genre')\n",
        "plt.ylabel('Gross Revenue in Billions')"
      ],
      "metadata": {
        "colab": {
          "base_uri": "https://localhost:8080/",
          "height": 565
        },
        "id": "2WGBSMZFWw0X",
        "outputId": "9fb78e39-c0fe-4229-d5c3-ba9bfa36c5e0"
      },
      "execution_count": null,
      "outputs": [
        {
          "output_type": "stream",
          "name": "stdout",
          "text": [
            "Ttest_indResult(statistic=-11.796338056668581, pvalue=1.1713301221423657e-28)\n",
            "The difference in means at the 95% confidence interval (two-tail) is between 188577047.37167513 and 259997778.02697575.\n"
          ]
        },
        {
          "output_type": "execute_result",
          "data": {
            "text/plain": [
              "Text(0, 0.5, 'Gross Revenue in Billions')"
            ]
          },
          "metadata": {},
          "execution_count": 44
        },
        {
          "output_type": "display_data",
          "data": {
            "image/png": "[encoded data removed]",
            "text/plain": [
              "<Figure size 504x576 with 1 Axes>"
            ]
          },
          "metadata": {}
        }
      ]
    },
    {
      "cell_type": "markdown",
      "source": [
        "### Hypothesis 1.2 results: \n",
        "- Reject the null hypothesis that there is no difference in gross revenue between horror and animation\n",
        "- The difference is signifficant at p < 0.05\n",
        "- With 95% confidence, the mean difference is between 188.6M and 260M"
      ],
      "metadata": {
        "id": "cSp2yD11YC0d"
      }
    },
    {
      "cell_type": "markdown",
      "source": [
        "# **Hypothesis 2 - Budget difference**"
      ],
      "metadata": {
        "id": "zUJYUoLBZQPq"
      }
    },
    {
      "cell_type": "markdown",
      "source": [
        "## 2.1 Is there a difference in budget  between action and comedy?\n",
        "### H₀: µ₁ - µ₂ = 0\n",
        "### Hₐ: µ₁ - µ₂ ≠ 0"
      ],
      "metadata": {
        "id": "mgvIu6KGZm3h"
      }
    },
    {
      "cell_type": "code",
      "source": [
        "# Run descriptive statistics for the budgets of comedy and action \n",
        "print(comedy_df['budget'].describe(),'\\n')\n",
        "print(action_df['budget'].describe())"
      ],
      "metadata": {
        "colab": {
          "base_uri": "https://localhost:8080/"
        },
        "id": "d-T_y_9BiyvS",
        "outputId": "536b3c80-cc4a-4f61-fe9a-1dc1bdd401da"
      },
      "execution_count": null,
      "outputs": [
        {
          "output_type": "stream",
          "name": "stdout",
          "text": [
            "count    1.496000e+03\n",
            "mean     2.280237e+07\n",
            "std      2.065020e+07\n",
            "min      2.276900e+04\n",
            "25%      8.000000e+06\n",
            "50%      1.700000e+07\n",
            "75%      3.000000e+07\n",
            "max      1.750000e+08\n",
            "Name: budget, dtype: float64 \n",
            "\n",
            "count    1.415000e+03\n",
            "mean     5.846856e+07\n",
            "std      5.576153e+07\n",
            "min      7.000000e+03\n",
            "25%      2.000000e+07\n",
            "50%      4.000000e+07\n",
            "75%      8.000000e+07\n",
            "max      3.560000e+08\n",
            "Name: budget, dtype: float64\n"
          ]
        }
      ]
    },
    {
      "cell_type": "code",
      "source": [
        "# T-test\n",
        "print(stats.ttest_ind(comedy_df['budget'], action_df['budget']))\n",
        "\n",
        "# Confidence Interval\n",
        "print(get_95_ci(comedy_df['budget'], action_df['budget']))\n",
        "\n",
        "# Use 'boxplot()' to see this group of data through their quartiles\n",
        "plt.figure(figsize=(7,8))\n",
        "plt.ylim(0,400000000)\n",
        "sns.boxplot(y='budget', x='genre', data=clean_df, order=['Comedy', 'Action'])\n",
        "sns.despine()\n",
        "plt.xlabel('Genre')\n",
        "plt.ylabel('Budget in Billions')"
      ],
      "metadata": {
        "colab": {
          "base_uri": "https://localhost:8080/",
          "height": 565
        },
        "id": "HrZKK_nZZ8Hv",
        "outputId": "c67341bc-10b5-495b-bc97-f8885d51d395"
      },
      "execution_count": null,
      "outputs": [
        {
          "output_type": "stream",
          "name": "stdout",
          "text": [
            "Ttest_indResult(statistic=-23.12007141560763, pvalue=1.0361804469184275e-108)\n",
            "The difference in means at the 95% confidence interval (two-tail) is between 32578043.11317738 and 38754334.228051044.\n"
          ]
        },
        {
          "output_type": "execute_result",
          "data": {
            "text/plain": [
              "Text(0, 0.5, 'Budget in Billions')"
            ]
          },
          "metadata": {},
          "execution_count": 46
        },
        {
          "output_type": "display_data",
          "data": {
            "image/png": "[encoded data removed]",
            "text/plain": [
              "<Figure size 504x576 with 1 Axes>"
            ]
          },
          "metadata": {}
        }
      ]
    },
    {
      "cell_type": "markdown",
      "source": [
        "### Hypothesis 2.1 results: \n",
        "- Reject the null hypothesis that there is no difference in budget between comedy and action\n",
        "- The difference is signifficant at p < 0.05\n",
        "- With 95% confidence, the mean difference is between 32.6M and 38.8M"
      ],
      "metadata": {
        "id": "YWKG4S0faPzN"
      }
    },
    {
      "cell_type": "markdown",
      "source": [
        "## 2.1 Is there a difference in budget  between horror and animation?\n",
        "### H₀: µ₁ - µ₂ = 0\n",
        "### Hₐ: µ₁ - µ₂ ≠ 0"
      ],
      "metadata": {
        "id": "NTUlw7nhblIa"
      }
    },
    {
      "cell_type": "code",
      "source": [
        "# Descriptive statistics on budgets of horror and animation\n",
        "print(horror_df['budget'].describe(), '\\n')\n",
        "print(animation_df['budget'].describe())"
      ],
      "metadata": {
        "id": "_H5tMPZObo7N",
        "colab": {
          "base_uri": "https://localhost:8080/"
        },
        "outputId": "c5326164-53a4-4fe9-dd84-cfe0f54bad5b"
      },
      "execution_count": null,
      "outputs": [
        {
          "output_type": "stream",
          "name": "stdout",
          "text": [
            "count    2.510000e+02\n",
            "mean     1.343453e+07\n",
            "std      1.506761e+07\n",
            "min      1.500000e+04\n",
            "25%      3.500000e+06\n",
            "50%      1.000000e+07\n",
            "75%      1.700000e+07\n",
            "max      9.700000e+07\n",
            "Name: budget, dtype: float64 \n",
            "\n",
            "count    2.770000e+02\n",
            "mean     7.632336e+07\n",
            "std      5.467973e+07\n",
            "min      7.000000e+04\n",
            "25%      3.000000e+07\n",
            "50%      7.000000e+07\n",
            "75%      1.100000e+08\n",
            "max      2.600000e+08\n",
            "Name: budget, dtype: float64\n"
          ]
        }
      ]
    },
    {
      "cell_type": "code",
      "source": [
        "# T-test\n",
        "print(stats.ttest_ind(horror_df['budget'], animation_df['budget']))\n",
        "\n",
        "# Confidence interval\n",
        "print(get_95_ci(horror_df['budget'], animation_df['budget']))\n",
        "\n",
        "# Box plot\n",
        "plt.figure(figsize=(7,8))\n",
        "plt.ylim(0,300000000)\n",
        "sns.boxplot(y='budget', x='genre', data=clean_df, order=['Horror', 'Animation'])\n",
        "sns.despine()\n",
        "plt.xlabel('Budget')\n",
        "plt.ylabel('Budget in Billions')"
      ],
      "metadata": {
        "colab": {
          "base_uri": "https://localhost:8080/",
          "height": 565
        },
        "id": "844mQ8ZAnvJg",
        "outputId": "b8e4283c-1b5e-442c-ccb7-782f126441c5"
      },
      "execution_count": null,
      "outputs": [
        {
          "output_type": "stream",
          "name": "stdout",
          "text": [
            "Ttest_indResult(statistic=-17.623856442066774, pvalue=5.649723369093641e-55)\n",
            "The difference in means at the 95% confidence interval (two-tail) is between 56185089.404222146 and 69592565.63626574.\n"
          ]
        },
        {
          "output_type": "execute_result",
          "data": {
            "text/plain": [
              "Text(0, 0.5, 'Budget in Billions')"
            ]
          },
          "metadata": {},
          "execution_count": 48
        },
        {
          "output_type": "display_data",
          "data": {
            "image/png": "[encoded data removed]",
            "text/plain": [
              "<Figure size 504x576 with 1 Axes>"
            ]
          },
          "metadata": {}
        }
      ]
    },
    {
      "cell_type": "markdown",
      "source": [
        "### Hypothesis 2.2 results:\n",
        "- Reject the null hypothesis that there is no difference in budget between comedy and action\n",
        "- The difference is signifficant at p < 0.05\n",
        "- With 95% confidence, the mean difference is between 56.2M and 69.6M"
      ],
      "metadata": {
        "id": "_feUOHvqpqmA"
      }
    },
    {
      "cell_type": "markdown",
      "source": [
        "# Gross Revenue and Budget Correlation\n",
        "## My initial data exploration in Excel shows that there is a direct correlation between gross revenue and budget"
      ],
      "metadata": {
        "id": "yGFDCTvVqbcl"
      }
    },
    {
      "cell_type": "code",
      "source": [
        "# Check out the heatmap to see the correlation among variables in the dataset\n",
        "correlation = np.triu(np.ones_like(clean_df.corr()))\n",
        "plt.figure(figsize=(11,7))\n",
        "sns.heatmap(clean_df.corr(), cmap=\"Greens\", annot=True, mask=correlation)\n",
        "plt.title('Correlation Matrics')"
      ],
      "metadata": {
        "id": "Q4zDfJoooWJw",
        "colab": {
          "base_uri": "https://localhost:8080/",
          "height": 464
        },
        "outputId": "5da8ccdd-d434-4fd6-db6b-29cd24dc5185"
      },
      "execution_count": null,
      "outputs": [
        {
          "output_type": "execute_result",
          "data": {
            "text/plain": [
              "Text(0.5, 1.0, 'Correlation Matrics')"
            ]
          },
          "metadata": {},
          "execution_count": 49
        },
        {
          "output_type": "display_data",
          "data": {
            "image/png": "[encoded data removed]",
            "text/plain": [
              "<Figure size 792x504 with 2 Axes>"
            ]
          },
          "metadata": {}
        }
      ]
    },
    {
      "cell_type": "code",
      "source": [
        "# Regression plot between gross revenue and budget\n",
        "plt.figure(figsize=(10,7))\n",
        "sns.regplot(y=clean_df['gross'], x=clean_df['budget'], line_kws={'color': 'green'})\n",
        "sns.despine()\n",
        "plt.xlabel('Budget')\n",
        "plt.ylabel('Gross Revenue')\n",
        "plt.title('Budget and Gross Revenue')"
      ],
      "metadata": {
        "colab": {
          "base_uri": "https://localhost:8080/",
          "height": 480
        },
        "id": "7X1jzOyRtaL7",
        "outputId": "d47d137c-5634-4768-a9db-5afb6cc4800e"
      },
      "execution_count": null,
      "outputs": [
        {
          "output_type": "execute_result",
          "data": {
            "text/plain": [
              "Text(0.5, 1.0, 'Budget and Gross Revenue')"
            ]
          },
          "metadata": {},
          "execution_count": 50
        },
        {
          "output_type": "display_data",
          "data": {
            "image/png": "[encoded data removed]",
            "text/plain": [
              "<Figure size 720x504 with 1 Axes>"
            ]
          },
          "metadata": {}
        }
      ]
    },
    {
      "cell_type": "code",
      "source": [
        "# Pearson test\n",
        "correlation, pvalue = stats.pearsonr(clean_df['gross'], clean_df['budget'])\n",
        "print('Pearsons correlation: %.3f' % correlation, ' and p-value: {}'. format(pvalue))"
      ],
      "metadata": {
        "colab": {
          "base_uri": "https://localhost:8080/"
        },
        "id": "q_Bei5DbuFDE",
        "outputId": "0783d87b-d820-4396-de33-4c489acc8362"
      },
      "execution_count": null,
      "outputs": [
        {
          "output_type": "stream",
          "name": "stdout",
          "text": [
            "Pearsons correlation: 0.740  and p-value: 0.0\n"
          ]
        }
      ]
    },
    {
      "cell_type": "markdown",
      "source": [
        "## The regression plot and the heatmap already show that there is a positive corellation between budget and gross revenue of a movie\n",
        "## The Pearson test confirms that. With p < 0.05, there is a correlation between the two variables. The correlation coefficient is 0.74 indicating a pretty strong positive corellation between them\n"
      ],
      "metadata": {
        "id": "GTGKXx3n0KXX"
      }
    },
    {
      "cell_type": "markdown",
      "source": [
        "# Top 5 genres\n",
        "## Knowing that there is a high correlation between gross revenue and budget, my next step is to find out the top genres that require the highest budgets and generate the highest gross revenues"
      ],
      "metadata": {
        "id": "I9DZyWus7VPB"
      }
    },
    {
      "cell_type": "code",
      "source": [
        "top5_gross = clean_df.groupby('genre')['gross'].sum().nlargest(5).index\n",
        "print('Top 5 Grossing Movies Genres: ', top5_gross.values)\n",
        "top5_budget = clean_df.groupby('genre')['budget'].sum().nlargest(5).index\n",
        "print('Top 5 Budgetting Movies Genres: ', top5_budget.values)"
      ],
      "metadata": {
        "colab": {
          "base_uri": "https://localhost:8080/"
        },
        "id": "GPTLKvmm_6-h",
        "outputId": "9810d4f0-b774-4d49-98a3-76d3bf05e273"
      },
      "execution_count": null,
      "outputs": [
        {
          "output_type": "stream",
          "name": "stdout",
          "text": [
            "Top 5 Grossing Movies Genres:  ['Action' 'Comedy' 'Animation' 'Drama' 'Adventure']\n",
            "Top 5 Budgetting Movies Genres:  ['Action' 'Comedy' 'Animation' 'Drama' 'Adventure']\n"
          ]
        }
      ]
    },
    {
      "cell_type": "markdown",
      "source": [
        "## This, again, shows that budget and gross revenue are positively correlated. The top 5 genres that have the highest budgets and gross revenues are: Action, Comedy, Animation, Drama, and Adventure."
      ],
      "metadata": {
        "id": "CWulIy0b754D"
      }
    },
    {
      "cell_type": "markdown",
      "source": [
        "# Conclusion\n",
        "\n",
        "\n"
      ],
      "metadata": {
        "id": "HYiAGXNoo6_x"
      }
    },
    {
      "cell_type": "markdown",
      "source": [
        "## Gross Revenue 1980-2020 Chart"
      ],
      "metadata": {
        "id": "9thJLo9NEUJK"
      }
    },
    {
      "cell_type": "code",
      "source": [
        "plt.figure(figsize=(10,7))\n",
        "sns.lineplot(x='year', y='gross', data=clean_df, ci=None)\n",
        "sns.despine()\n",
        "plt.xlabel('Year')\n",
        "plt.ylabel('Gross Revenue in Billions')\n",
        "plt.title('Gross Revenue 1980-2020')"
      ],
      "metadata": {
        "colab": {
          "base_uri": "https://localhost:8080/",
          "height": 480
        },
        "id": "l6NYk2ifJUUU",
        "outputId": "421c7ef5-3979-4c81-e9c2-b24e0f4cd7de"
      },
      "execution_count": null,
      "outputs": [
        {
          "output_type": "execute_result",
          "data": {
            "text/plain": [
              "Text(0.5, 1.0, 'Gross Revenue 1980-2020')"
            ]
          },
          "metadata": {},
          "execution_count": 53
        },
        {
          "output_type": "display_data",
          "data": {
            "image/png": "[encoded data removed]",
            "text/plain": [
              "<Figure size 720x504 with 1 Axes>"
            ]
          },
          "metadata": {}
        }
      ]
    },
    {
      "cell_type": "markdown",
      "source": [
        "## So, what is the purpose for all of this?\n",
        "## Overall, I think that the movie industry is not dying, despite strong competition from streaming services like Netflix or Hulu, and the impact of the pandemic. \n",
        "## The 40 year trend shows that the gross revenue increased over the year\n",
        "## I wanted to prove that there is a positive relationship between Budget and Gross Revenue. So, in order for the movie industry to regain its pre-pandemic momentum and attract moviegoers back to the theaters, filmmakers and producers should continue their focus on producing quality movies in the top 5 genres: Action, Comedy, Animation, Drama, and Adventure.\n",
        "<img src=\"https://s3-us-west-2.amazonaws.com/prd-rteditorial/wp-content/uploads/2018/03/13153742/RT_300EssentialMovies_700X250.jpg\" style=\"width: 100%; height: auto !important; max-width:1000px;-ms-interpolation-mode: bicubic;\"/></a><br /></a>"
      ],
      "metadata": {
        "id": "Ynhudz8ZKL6q"
      }
    }
  ]
}